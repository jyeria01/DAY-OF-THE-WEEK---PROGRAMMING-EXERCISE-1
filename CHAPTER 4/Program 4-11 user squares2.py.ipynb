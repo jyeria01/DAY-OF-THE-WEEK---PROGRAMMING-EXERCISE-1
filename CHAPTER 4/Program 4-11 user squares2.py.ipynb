{
 "cells": [
  {
   "cell_type": "code",
   "execution_count": 1,
   "id": "97814828",
   "metadata": {},
   "outputs": [],
   "source": [
    "# This program uses a loop ti display a table of numbers and their squares"
   ]
  },
  {
   "cell_type": "code",
   "execution_count": 2,
   "id": "9ce470ca",
   "metadata": {},
   "outputs": [
    {
     "name": "stdout",
     "output_type": "stream",
     "text": [
      "This program displays a list of numbers\n",
      "and their squares.\n",
      "Enter the starting number: 5\n",
      "How high should I go? 10\n",
      "\n",
      "Number\tSquare\n",
      "--------------\n",
      "5\t25\n",
      "6\t36\n",
      "7\t49\n",
      "8\t64\n",
      "9\t81\n",
      "10\t100\n"
     ]
    }
   ],
   "source": [
    "# Get the starting value\n",
    "print('This program displays a list of numbers')\n",
    "print('and their squares.')\n",
    "start = int(input('Enter the starting number: '))\n",
    "# Get the ending limit\n",
    "end = int(input('How high should I go? '))\n",
    "# Print the table headings.\n",
    "print()\n",
    "print('Number\\tSquare')\n",
    "print('--------------')\n",
    "# Print the numbers and their squares.\n",
    "for number in range(start, end + 1):\n",
    "    square = number ** 2\n",
    "    print(f'{number}\\t{square}')"
   ]
  },
  {
   "cell_type": "code",
   "execution_count": null,
   "id": "5f93afac",
   "metadata": {},
   "outputs": [],
   "source": []
  }
 ],
 "metadata": {
  "kernelspec": {
   "display_name": "Python 3 (ipykernel)",
   "language": "python",
   "name": "python3"
  },
  "language_info": {
   "codemirror_mode": {
    "name": "ipython",
    "version": 3
   },
   "file_extension": ".py",
   "mimetype": "text/x-python",
   "name": "python",
   "nbconvert_exporter": "python",
   "pygments_lexer": "ipython3",
   "version": "3.11.4"
  }
 },
 "nbformat": 4,
 "nbformat_minor": 5
}
