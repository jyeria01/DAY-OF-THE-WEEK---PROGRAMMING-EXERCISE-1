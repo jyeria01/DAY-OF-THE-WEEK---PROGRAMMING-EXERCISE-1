{
 "cells": [
  {
   "cell_type": "code",
   "execution_count": 1,
   "id": "bf854db5",
   "metadata": {},
   "outputs": [
    {
     "name": "stdout",
     "output_type": "stream",
     "text": [
      "Enter the number of hours worked this week: 400\n",
      "Enter the hourly pay rate: 20\n",
      "Gross pay: $8,000.00\n"
     ]
    }
   ],
   "source": [
    "# THIS PROGRAM DISPLAYS GROSS PAY.\n",
    "# GET THE NUMBER OF HOURS WORKED\n",
    "hours = int(input('Enter the number of hours worked this week: '))\n",
    "\n",
    "# GET THE HOURLY PAY RATE\n",
    "pay_rate = float(input('Enter the hourly pay rate: '))\n",
    "\n",
    "# CALCULATE GROSS PAY\n",
    "gross_pay = hours * pay_rate\n",
    "\n",
    "# Display the gross pay\n",
    "print(f'Gross pay: ${gross_pay:,.2f}')"
   ]
  },
  {
   "cell_type": "markdown",
   "id": "7c608310",
   "metadata": {},
   "source": [
    "# INPUT VALIDATION LOOP"
   ]
  },
  {
   "cell_type": "code",
   "execution_count": 4,
   "id": "5f1cf67c",
   "metadata": {},
   "outputs": [
    {
     "name": "stdout",
     "output_type": "stream",
     "text": [
      "Enter a test score: -12\n",
      "ERROR: The wscore cannot be negative.\n",
      "Enter the correct score: -45\n",
      "ERROR: The wscore cannot be negative.\n",
      "Enter the correct score: 85\n"
     ]
    }
   ],
   "source": [
    "# GET A TEST SCORE.\n",
    "score = int(input('Enter a test score: '))\n",
    "\n",
    "# make sure it is not less than 0\n",
    "while score < 0:\n",
    "\n",
    "    print('ERROR: The score cannot be negative.')\n",
    "    \n",
    "    score = int(input('Enter the correct score: '))"
   ]
  },
  {
   "cell_type": "code",
   "execution_count": 6,
   "id": "4449c62a",
   "metadata": {},
   "outputs": [
    {
     "name": "stdout",
     "output_type": "stream",
     "text": [
      "Enter a test score: -14\n",
      "ERROR: The score cannot be negative\n",
      "or greater than 100.\n",
      "Enter the correct score: 120\n",
      "ERROR: The score cannot be negative\n",
      "or greater than 100.\n",
      "Enter the correct score: 95\n"
     ]
    }
   ],
   "source": [
    "# Get a test score.\n",
    "score = int(input('Enter a test score: '))\n",
    "\n",
    "# Make sure it is not less than 0 or greater than 100.\n",
    "\n",
    "while score < 0 or score > 100:\n",
    "    print('ERROR: The score cannot be negative')\n",
    "    print('or greater than 100.')\n",
    "    score = int(input('Enter the correct score: '))"
   ]
  },
  {
   "cell_type": "code",
   "execution_count": null,
   "id": "fccdf42a",
   "metadata": {},
   "outputs": [],
   "source": []
  }
 ],
 "metadata": {
  "kernelspec": {
   "display_name": "Python 3 (ipykernel)",
   "language": "python",
   "name": "python3"
  },
  "language_info": {
   "codemirror_mode": {
    "name": "ipython",
    "version": 3
   },
   "file_extension": ".py",
   "mimetype": "text/x-python",
   "name": "python",
   "nbconvert_exporter": "python",
   "pygments_lexer": "ipython3",
   "version": "3.11.4"
  }
 },
 "nbformat": 4,
 "nbformat_minor": 5
}
