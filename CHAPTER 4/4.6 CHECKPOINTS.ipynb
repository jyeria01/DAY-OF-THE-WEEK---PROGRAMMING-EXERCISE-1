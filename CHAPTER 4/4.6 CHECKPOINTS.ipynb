{
 "cells": [
  {
   "cell_type": "markdown",
   "id": "91a1ffa2",
   "metadata": {},
   "source": [
    "# 4.20 What does the phrase “garbage in, garbage out” mean?\n",
    "IT MEANS THAT IF BAD DATA (GARBAGE) IS PROVIDED AS INPUT TO A PROGRAM, THE PROGRAM WILL PRODUCE BAD DATA (GARBAGE) AS OUTPUT"
   ]
  },
  {
   "cell_type": "markdown",
   "id": "1bdcd936",
   "metadata": {},
   "source": [
    "# 4.21 - Give a general description of the input validation process.\n",
    "WHEN INPUT IS GIVEN TO A PROGRAM, IT SHOULD BE INSPECTED BEFORE IT IS PROCESSED. IF THE INPUT IS INVALID THEN IT SHOULD BE DISCARDED AND THE USER SHOULD BE PROMPTED TO ENTER THE CORRECT DATA."
   ]
  },
  {
   "cell_type": "markdown",
   "id": "2d95c6da",
   "metadata": {},
   "source": [
    "# 4.22 Describe the steps that are generally taken when an input validation loop is used to validate data.\n",
    "THE INPUT IS READ, THEN A PRETEST LOOP IS EXECUTED. IF THE INPUT DATA IS INVALID, THE BODY OF THE LOOP EXECUTES. IN THE BODY OF THE LOOP, AND ERROR MESSAGE IS DESIPLAYED SO THE USER WILL KNOW THAT THE INPUT WAS INVALID, AND THEN THE INPUT READ AGAIN. THE LOOP REPEARTS AS LONG AS THE INPUT IS INVALID."
   ]
  },
  {
   "cell_type": "markdown",
   "id": "74dc485b",
   "metadata": {},
   "source": [
    "# 4.23 What is a priming read? What is its purpose?\n",
    "IS IS THE IPUT OPERATION THAT TAKES PLACE JUST BEFORE AN INPUT VALIDATION LOOP."
   ]
  },
  {
   "cell_type": "markdown",
   "id": "cf9e7bf7",
   "metadata": {},
   "source": [
    "# 4.24 If the input that is read by the priming read is valid, how many times will the input validation loop iterate?\n",
    "NONE"
   ]
  },
  {
   "cell_type": "code",
   "execution_count": null,
   "id": "3a0a00a2",
   "metadata": {},
   "outputs": [],
   "source": []
  }
 ],
 "metadata": {
  "kernelspec": {
   "display_name": "Python 3 (ipykernel)",
   "language": "python",
   "name": "python3"
  },
  "language_info": {
   "codemirror_mode": {
    "name": "ipython",
    "version": 3
   },
   "file_extension": ".py",
   "mimetype": "text/x-python",
   "name": "python",
   "nbconvert_exporter": "python",
   "pygments_lexer": "ipython3",
   "version": "3.11.4"
  }
 },
 "nbformat": 4,
 "nbformat_minor": 5
}
