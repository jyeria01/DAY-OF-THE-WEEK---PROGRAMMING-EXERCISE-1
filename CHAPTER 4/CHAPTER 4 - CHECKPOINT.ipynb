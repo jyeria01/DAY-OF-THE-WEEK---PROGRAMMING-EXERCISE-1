{
 "cells": [
  {
   "cell_type": "markdown",
   "id": "b9209b53",
   "metadata": {},
   "source": [
    "# 4.4 What is a loop iteration?\n",
    "# an execution of the statements in the body of the loop"
   ]
  },
  {
   "cell_type": "markdown",
   "id": "770bc839",
   "metadata": {},
   "source": [
    "# 4.5 Does the WHILE loop test its condition before or after it performs an iteration?\n",
    "# BEFORE"
   ]
  },
  {
   "cell_type": "markdown",
   "id": "3b452a46",
   "metadata": {},
   "source": [
    "# 4.6 How many times will 'Hello World' be printed in the following program?"
   ]
  },
  {
   "cell_type": "code",
   "execution_count": 2,
   "id": "b7f602fd",
   "metadata": {},
   "outputs": [],
   "source": [
    "count = 10\n",
    "while count < 1:\n",
    "    print('Hello World')"
   ]
  },
  {
   "cell_type": "code",
   "execution_count": 3,
   "id": "eb861eac",
   "metadata": {},
   "outputs": [],
   "source": [
    "# None.  The condition count < 0 will be false to begin with."
   ]
  },
  {
   "cell_type": "markdown",
   "id": "2542ea1b",
   "metadata": {},
   "source": [
    "# 4.7 What is an infinite loop?\n",
    "# a loop that has no way of stopping and repeats unil the program is interrupted"
   ]
  },
  {
   "cell_type": "code",
   "execution_count": null,
   "id": "c1655645",
   "metadata": {},
   "outputs": [],
   "source": []
  }
 ],
 "metadata": {
  "kernelspec": {
   "display_name": "Python 3 (ipykernel)",
   "language": "python",
   "name": "python3"
  },
  "language_info": {
   "codemirror_mode": {
    "name": "ipython",
    "version": 3
   },
   "file_extension": ".py",
   "mimetype": "text/x-python",
   "name": "python",
   "nbconvert_exporter": "python",
   "pygments_lexer": "ipython3",
   "version": "3.11.4"
  }
 },
 "nbformat": 4,
 "nbformat_minor": 5
}
