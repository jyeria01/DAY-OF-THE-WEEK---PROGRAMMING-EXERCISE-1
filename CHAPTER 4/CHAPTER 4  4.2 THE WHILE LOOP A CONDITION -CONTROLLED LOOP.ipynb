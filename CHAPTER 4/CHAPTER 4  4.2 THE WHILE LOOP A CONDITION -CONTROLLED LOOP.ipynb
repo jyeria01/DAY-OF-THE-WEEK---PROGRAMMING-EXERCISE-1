{
 "cells": [
  {
   "cell_type": "markdown",
   "id": "103048d2",
   "metadata": {},
   "source": [
    "# PROGRAM 4.1 COMMISSION.PY"
   ]
  },
  {
   "cell_type": "code",
   "execution_count": 1,
   "id": "2821c57f",
   "metadata": {},
   "outputs": [],
   "source": [
    "# This program calculates sales commissions.\n",
    "# Create a variable to control the loop\n",
    "# Calculate the commission\n",
    "# Dsiplay the commission\n",
    "# See if the user wants to do another one."
   ]
  },
  {
   "cell_type": "code",
   "execution_count": 2,
   "id": "38689f1a",
   "metadata": {},
   "outputs": [
    {
     "name": "stdout",
     "output_type": "stream",
     "text": [
      "Enter the amount of sales: 10000.00\n",
      "Enter the commission rate: 0.10\n",
      "The commission is $1,000.00.\n",
      "Do you want to calculate another commission (Enter y for yes): y\n",
      "Enter the amount of sales: 20000.00\n",
      "Enter the commission rate: 0.15\n",
      "The commission is $3,000.00.\n",
      "Do you want to calculate another commission (Enter y for yes): y\n",
      "Enter the amount of sales: 12000.00\n",
      "Enter the commission rate: 0.10\n",
      "The commission is $1,200.00.\n",
      "Do you want to calculate another commission (Enter y for yes): n\n"
     ]
    }
   ],
   "source": [
    "# Create a variable to control the loop\n",
    "keep_going = 'y'\n",
    "\n",
    "# Calculate a series of commissions.\n",
    "\n",
    "while keep_going == 'y':\n",
    "\n",
    "# Get the salesperson's sales and commission rate.\n",
    "\n",
    "    sales = float(input('Enter the amount of sales: '))\n",
    "    comm_rate = float(input('Enter the commission rate: '))\n",
    "\n",
    "#calculate the commission\n",
    "    commission = sales * comm_rate\n",
    "\n",
    "# Dsiplay the commission\n",
    "    print(f'The commission is ${commission:,.2f}.')\n",
    "\n",
    "# see if the user wants to do another one.\n",
    "\n",
    "    keep_going = input('Do you want to calculate another commission (Enter y for yes): ')"
   ]
  },
  {
   "cell_type": "code",
   "execution_count": null,
   "id": "dc922e6e",
   "metadata": {},
   "outputs": [],
   "source": []
  },
  {
   "cell_type": "code",
   "execution_count": null,
   "id": "a87fd7ac",
   "metadata": {},
   "outputs": [],
   "source": []
  }
 ],
 "metadata": {
  "kernelspec": {
   "display_name": "Python 3 (ipykernel)",
   "language": "python",
   "name": "python3"
  },
  "language_info": {
   "codemirror_mode": {
    "name": "ipython",
    "version": 3
   },
   "file_extension": ".py",
   "mimetype": "text/x-python",
   "name": "python",
   "nbconvert_exporter": "python",
   "pygments_lexer": "ipython3",
   "version": "3.11.4"
  }
 },
 "nbformat": 4,
 "nbformat_minor": 5
}
