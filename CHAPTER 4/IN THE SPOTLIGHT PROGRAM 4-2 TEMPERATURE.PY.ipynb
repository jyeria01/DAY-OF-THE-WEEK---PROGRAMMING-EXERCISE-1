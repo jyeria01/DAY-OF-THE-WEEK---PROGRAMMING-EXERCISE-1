{
 "cells": [
  {
   "cell_type": "code",
   "execution_count": 1,
   "id": "d6dac648",
   "metadata": {},
   "outputs": [],
   "source": [
    "# Get the substance's temperature\n",
    "# Repeat the following stpes as long as the temperature is greater than 102.5 degrees celsius:\n",
    "# After the loop finishes, tell the technician that the temperature is acceptable and to check it again in 15 minutes"
   ]
  },
  {
   "cell_type": "code",
   "execution_count": 2,
   "id": "2f1c231e",
   "metadata": {},
   "outputs": [],
   "source": [
    "# This program asists a technician in the process of checking a substance's temperature.\n",
    "\n",
    "# Named constant to represent the maximum\n",
    "# temperature\n",
    "MAX_TEMP = 102.5"
   ]
  },
  {
   "cell_type": "code",
   "execution_count": 3,
   "id": "d0888e8e",
   "metadata": {},
   "outputs": [
    {
     "name": "stdout",
     "output_type": "stream",
     "text": [
      "Enter the substance's Celsius temperature: 104.7\n",
      "The temperature is too high.\n",
      "Turn the thermostat down and wait\n",
      "5 minutes. Then take the temperature\n",
      "again and enter it.\n",
      "Enter the substance's Celsius temperature: 103.2\n",
      "The temperature is too high.\n",
      "Turn the thermostat down and wait\n",
      "5 minutes. Then take the temperature\n",
      "again and enter it.\n",
      "Enter the substance's Celsius temperature: 102.1\n",
      "The temperature is acceptable.\n",
      "Check it again in 15 minutes.\n"
     ]
    }
   ],
   "source": [
    "# Get the substance's temperature.\n",
    "temperature = float(input(\"Enter the substance's Celsius temperature: \"))\n",
    "\n",
    "while temperature > MAX_TEMP:\n",
    "        print('The temperature is too high.')\n",
    "        print('Turn the thermostat down and wait')\n",
    "        print('5 minutes. Then take the temperature')\n",
    "        print('again and enter it.')\n",
    "        temperature = float(input(\"Enter the substance's Celsius temperature: \"))\n",
    "        \n",
    "# Remind the user to check the temperature again in 15 minutes\n",
    "\n",
    "print('The temperature is acceptable.')\n",
    "print('Check it again in 15 minutes.')"
   ]
  }
 ],
 "metadata": {
  "kernelspec": {
   "display_name": "Python 3 (ipykernel)",
   "language": "python",
   "name": "python3"
  },
  "language_info": {
   "codemirror_mode": {
    "name": "ipython",
    "version": 3
   },
   "file_extension": ".py",
   "mimetype": "text/x-python",
   "name": "python",
   "nbconvert_exporter": "python",
   "pygments_lexer": "ipython3",
   "version": "3.11.4"
  }
 },
 "nbformat": 4,
 "nbformat_minor": 5
}
