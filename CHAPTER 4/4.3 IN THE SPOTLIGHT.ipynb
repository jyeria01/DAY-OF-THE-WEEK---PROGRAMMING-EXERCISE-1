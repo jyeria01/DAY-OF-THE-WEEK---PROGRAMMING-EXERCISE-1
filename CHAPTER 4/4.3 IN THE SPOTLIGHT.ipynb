{
 "cells": [
  {
   "cell_type": "code",
   "execution_count": 1,
   "id": "8b512252",
   "metadata": {},
   "outputs": [],
   "source": [
    "# THIS PROGRAM CONVERTS THE SPEEDS 60 KPH THROUGH 130 KPH (IN 10 KPH INCREMENTS) TO MPH"
   ]
  },
  {
   "cell_type": "code",
   "execution_count": 2,
   "id": "24ee85d3",
   "metadata": {},
   "outputs": [
    {
     "name": "stdout",
     "output_type": "stream",
     "text": [
      "KPH\tMPH\n",
      "--------------\n",
      "60\t37.3\n",
      "70\t43.5\n",
      "80\t49.7\n",
      "90\t55.9\n",
      "100\t62.1\n",
      "110\t68.4\n",
      "120\t74.6\n",
      "130\t80.8\n"
     ]
    }
   ],
   "source": [
    "range(60, 131, 10)\n",
    "# Starting speed\n",
    "START_SPEED = 60\n",
    "\n",
    "# Ending speed\n",
    "END_SPEED = 131\n",
    "\n",
    "# Speed increment\n",
    "INCREMENT = 10\n",
    "\n",
    "# Conversion factor\n",
    "CONVERSION_FACTOR = 0.6214\n",
    "\n",
    "# PRINT THE TABLE HEADINGS.\n",
    "print('KPH\\tMPH')\n",
    "print('--------------')\n",
    "# Print the speeds\n",
    "for kph in range(START_SPEED, END_SPEED, INCREMENT):\n",
    "    mph = kph * CONVERSION_FACTOR\n",
    "    print(f'{kph}\\t{mph:.1f}')"
   ]
  },
  {
   "cell_type": "code",
   "execution_count": null,
   "id": "d99af12e",
   "metadata": {},
   "outputs": [],
   "source": []
  }
 ],
 "metadata": {
  "kernelspec": {
   "display_name": "Python 3 (ipykernel)",
   "language": "python",
   "name": "python3"
  },
  "language_info": {
   "codemirror_mode": {
    "name": "ipython",
    "version": 3
   },
   "file_extension": ".py",
   "mimetype": "text/x-python",
   "name": "python",
   "nbconvert_exporter": "python",
   "pygments_lexer": "ipython3",
   "version": "3.11.4"
  }
 },
 "nbformat": 4,
 "nbformat_minor": 5
}
