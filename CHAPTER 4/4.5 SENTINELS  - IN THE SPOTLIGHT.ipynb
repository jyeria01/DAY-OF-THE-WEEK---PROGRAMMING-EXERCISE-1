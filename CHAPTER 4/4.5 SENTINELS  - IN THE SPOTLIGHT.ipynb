{
 "cells": [
  {
   "cell_type": "markdown",
   "id": "9e523d0c",
   "metadata": {},
   "source": [
    "# 4.5 IN THE SPOTLIGHT"
   ]
  },
  {
   "cell_type": "code",
   "execution_count": 1,
   "id": "06fddd83",
   "metadata": {},
   "outputs": [],
   "source": [
    "# THIS PROGRAM DISPLAYS PROPERTY TAXES"
   ]
  },
  {
   "cell_type": "code",
   "execution_count": 2,
   "id": "980b82a6",
   "metadata": {},
   "outputs": [],
   "source": [
    "# Represents the tax factor\n",
    "TAX_FACTOR = 0.0065"
   ]
  },
  {
   "cell_type": "code",
   "execution_count": 3,
   "id": "6a3b798a",
   "metadata": {},
   "outputs": [],
   "source": [
    "# Get the first lot number"
   ]
  },
  {
   "cell_type": "code",
   "execution_count": 4,
   "id": "a77a4ee0",
   "metadata": {},
   "outputs": [
    {
     "name": "stdout",
     "output_type": "stream",
     "text": [
      "Enter the property lot number or enter 0 to end.\n",
      "Lot number: 100\n"
     ]
    }
   ],
   "source": [
    "print('Enter the property lot number or enter 0 to end.')\n",
    "lot = int(input('Lot number: '))"
   ]
  },
  {
   "cell_type": "code",
   "execution_count": 5,
   "id": "ab218d0c",
   "metadata": {},
   "outputs": [],
   "source": [
    "# Continue processing as long as the user does not enter lot number 0."
   ]
  },
  {
   "cell_type": "code",
   "execution_count": 6,
   "id": "b7575c14",
   "metadata": {},
   "outputs": [
    {
     "name": "stdout",
     "output_type": "stream",
     "text": [
      "Enter the property value: 100000.00\n",
      "Property tax: $650.00\n",
      "Enter the next lot number or enter 0 to end.\n",
      "Lot number: 200\n",
      "Enter the property value: 5000.00\n",
      "Property tax: $32.50\n",
      "Enter the next lot number or enter 0 to end.\n",
      "Lot number: 0\n"
     ]
    }
   ],
   "source": [
    "while lot != 0:\n",
    "    # Get the property value\n",
    "    value = float(input('Enter the property value: '))\n",
    "    \n",
    "    # Calculate the property's tax.\n",
    "    tax = value * TAX_FACTOR\n",
    "    \n",
    "    # Display the tax\n",
    "    print(f'Property tax: ${tax:,.2f}')\n",
    "    \n",
    "    # Get the next lot number\n",
    "    print('Enter the next lot number or enter 0 to end.')\n",
    "    lot = int(input('Lot number: '))"
   ]
  },
  {
   "cell_type": "code",
   "execution_count": null,
   "id": "f98c360a",
   "metadata": {},
   "outputs": [],
   "source": []
  }
 ],
 "metadata": {
  "kernelspec": {
   "display_name": "Python 3 (ipykernel)",
   "language": "python",
   "name": "python3"
  },
  "language_info": {
   "codemirror_mode": {
    "name": "ipython",
    "version": 3
   },
   "file_extension": ".py",
   "mimetype": "text/x-python",
   "name": "python",
   "nbconvert_exporter": "python",
   "pygments_lexer": "ipython3",
   "version": "3.11.4"
  }
 },
 "nbformat": 4,
 "nbformat_minor": 5
}
