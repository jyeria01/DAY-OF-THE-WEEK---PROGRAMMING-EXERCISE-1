{
 "cells": [
  {
   "cell_type": "code",
   "execution_count": 1,
   "id": "609e88e9",
   "metadata": {},
   "outputs": [
    {
     "name": "stdout",
     "output_type": "stream",
     "text": [
      "Enter the amount of sales: 10000\n",
      "Enter the commission rate: 10\n"
     ]
    }
   ],
   "source": [
    "# Get a salesperon's sales and commission rate.\n",
    "sales = float(input('Enter the amount of sales: '))\n",
    "comm_rate = float(input('Enter the commission rate: '))"
   ]
  },
  {
   "cell_type": "code",
   "execution_count": 2,
   "id": "b3feac64",
   "metadata": {},
   "outputs": [
    {
     "name": "stdout",
     "output_type": "stream",
     "text": [
      "The commission is $100,000.00\n"
     ]
    }
   ],
   "source": [
    "# Calculate the commission\n",
    "commission = sales * comm_rate\n",
    "\n",
    "# display the commission\n",
    "print('The commission is $', format(commission, ',.2f'), sep='')"
   ]
  },
  {
   "cell_type": "code",
   "execution_count": 3,
   "id": "ca10290e",
   "metadata": {},
   "outputs": [
    {
     "name": "stdout",
     "output_type": "stream",
     "text": [
      "Enter the amount of sales: 10000\n",
      "Enter the commission rate: .10\n",
      "The commission is $1,000.00\n"
     ]
    }
   ],
   "source": [
    "# Get another salesperon's sales anc commission rate.\n",
    "\n",
    "sales = float(input('Enter the amount of sales: '))\n",
    "comm_rate = float(input('Enter the commission rate: '))\n",
    "\n",
    "# Calculate the commission\n",
    "commission = sales * comm_rate\n",
    "\n",
    "# display the commission\n",
    "print('The commission is $', format(commission, ',.2f'), sep='')"
   ]
  },
  {
   "cell_type": "markdown",
   "id": "b669d985",
   "metadata": {},
   "source": [
    "# 4.1 What is a repetition structure?\n",
    "## A structure that causes a section of code to repeat"
   ]
  },
  {
   "cell_type": "markdown",
   "id": "9bdee3e1",
   "metadata": {},
   "source": [
    "# 4.2 What is a condition-controlled loop?\n",
    "## a loop that uses a true/false condition to control the number of times that it repeats"
   ]
  },
  {
   "cell_type": "markdown",
   "id": "35f1c16c",
   "metadata": {},
   "source": [
    "# 4.3 What is a count-controlled loop?\n",
    "## a loop that repeats a specific number of times"
   ]
  },
  {
   "cell_type": "code",
   "execution_count": null,
   "id": "00c9c1de",
   "metadata": {},
   "outputs": [],
   "source": []
  }
 ],
 "metadata": {
  "kernelspec": {
   "display_name": "Python 3 (ipykernel)",
   "language": "python",
   "name": "python3"
  },
  "language_info": {
   "codemirror_mode": {
    "name": "ipython",
    "version": 3
   },
   "file_extension": ".py",
   "mimetype": "text/x-python",
   "name": "python",
   "nbconvert_exporter": "python",
   "pygments_lexer": "ipython3",
   "version": "3.11.4"
  }
 },
 "nbformat": 4,
 "nbformat_minor": 5
}
