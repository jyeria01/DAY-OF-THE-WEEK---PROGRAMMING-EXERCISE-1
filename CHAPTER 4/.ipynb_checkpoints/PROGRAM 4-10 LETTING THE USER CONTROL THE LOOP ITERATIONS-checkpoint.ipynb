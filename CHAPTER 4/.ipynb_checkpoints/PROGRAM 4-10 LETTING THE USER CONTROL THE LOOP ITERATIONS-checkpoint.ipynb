{
 "cells": [
  {
   "cell_type": "code",
   "execution_count": 1,
   "id": "26b5f3dd",
   "metadata": {},
   "outputs": [],
   "source": [
    "# THIS PROGRAM USES A LOOP TO DISPLAY A TABLE OF NUMBERS AND THEIR SQUARES"
   ]
  },
  {
   "cell_type": "code",
   "execution_count": 2,
   "id": "37dbb01e",
   "metadata": {},
   "outputs": [
    {
     "name": "stdout",
     "output_type": "stream",
     "text": [
      "This program displays a list of numbers\n",
      "(starting at 1) and their squares\n",
      "How high should I go? 10\n"
     ]
    }
   ],
   "source": [
    "# GET THE ENDING LIMIT\n",
    "print('This program displays a list of numbers')\n",
    "print('(starting at 1) and their squares')\n",
    "end = int(input('How high should I go? '))"
   ]
  },
  {
   "cell_type": "code",
   "execution_count": 3,
   "id": "bab5afb3",
   "metadata": {},
   "outputs": [
    {
     "name": "stdout",
     "output_type": "stream",
     "text": [
      "\n",
      "Number\tSquare\n",
      "--------------\n"
     ]
    }
   ],
   "source": [
    "# Print the table headings\n",
    "print()\n",
    "print('Number\\tSquare')\n",
    "print('--------------')"
   ]
  },
  {
   "cell_type": "code",
   "execution_count": 4,
   "id": "a34e1016",
   "metadata": {},
   "outputs": [
    {
     "name": "stdout",
     "output_type": "stream",
     "text": [
      "1\t1\n",
      "2\t4\n",
      "3\t9\n",
      "4\t16\n",
      "5\t25\n",
      "6\t36\n",
      "7\t49\n",
      "8\t64\n",
      "9\t81\n",
      "10\t100\n"
     ]
    }
   ],
   "source": [
    "# print the numbers and their squares.\n",
    "for number in range(1, end + 1):\n",
    "    square = number**2\n",
    "    print(f'{number}\\t{square}')"
   ]
  },
  {
   "cell_type": "code",
   "execution_count": 5,
   "id": "fa5838d1",
   "metadata": {},
   "outputs": [
    {
     "name": "stdout",
     "output_type": "stream",
     "text": [
      "This program displays a list of numbers\n",
      "(starting at 1) and their squares.\n",
      "How high should I go? 5\n",
      "\n",
      "Number\tSquare\n",
      "--------------\n",
      "1\t1\n",
      "2\t4\n",
      "3\t9\n",
      "4\t16\n",
      "5\t25\n"
     ]
    }
   ],
   "source": [
    "# GET THE ENDING LIMIT\n",
    "print('This program displays a list of numbers')\n",
    "print('(starting at 1) and their squares.')\n",
    "end = int(input('How high should I go? '))\n",
    "# Print the table headings\n",
    "print()\n",
    "print('Number\\tSquare')\n",
    "print('--------------')\n",
    "# print the numbers and their squares.\n",
    "for number in range(1, end + 1):\n",
    "    square = number**2\n",
    "    print(f'{number}\\t{square}')"
   ]
  },
  {
   "cell_type": "code",
   "execution_count": null,
   "id": "71300229",
   "metadata": {},
   "outputs": [],
   "source": []
  }
 ],
 "metadata": {
  "kernelspec": {
   "display_name": "Python 3 (ipykernel)",
   "language": "python",
   "name": "python3"
  },
  "language_info": {
   "codemirror_mode": {
    "name": "ipython",
    "version": 3
   },
   "file_extension": ".py",
   "mimetype": "text/x-python",
   "name": "python",
   "nbconvert_exporter": "python",
   "pygments_lexer": "ipython3",
   "version": "3.11.4"
  }
 },
 "nbformat": 4,
 "nbformat_minor": 5
}
