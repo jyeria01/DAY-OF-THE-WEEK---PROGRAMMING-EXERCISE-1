{
 "cells": [
  {
   "cell_type": "markdown",
   "id": "2caf43e9",
   "metadata": {},
   "source": [
    "# Samantha owns an import business, and she calculates the retail prices of her products with the following formula: RETAIL PRICE = WHOLESALE COST X 2.5"
   ]
  },
  {
   "cell_type": "markdown",
   "id": "8239b6cb",
   "metadata": {},
   "source": [
    "# PROGRAM 4.15 RETAIL_NO_VALIDATION"
   ]
  },
  {
   "cell_type": "code",
   "execution_count": 1,
   "id": "2b8fd7b1",
   "metadata": {},
   "outputs": [],
   "source": [
    "# This program calculates reailt prices\n",
    "\n",
    "# The markup percentage\n",
    "MARK_UP = 2.5\n",
    "\n",
    "#Variable to control the loop.\n",
    "another = 'y'"
   ]
  },
  {
   "cell_type": "code",
   "execution_count": 2,
   "id": "5021cd56",
   "metadata": {},
   "outputs": [
    {
     "name": "stdout",
     "output_type": "stream",
     "text": [
      "Enter the item's wholesale cost: 10.00\n",
      "Retail price: $25.00\n",
      "Do you have another items?  (Enter y for yes):y\n",
      "Enter the item's wholesale cost: 15.00\n",
      "Retail price: $37.50\n",
      "Do you have another items?  (Enter y for yes):n\n"
     ]
    }
   ],
   "source": [
    "# process one or more items.\n",
    "while another == 'y' or another == 'Y':\n",
    "\n",
    "# Get the item's wholesale cost.\n",
    "    wholesale = float(input(\"Enter the item's wholesale cost: \"))\n",
    "    \n",
    "    # Calculate the retail price.\n",
    "    retail = wholesale * MARK_UP\n",
    "\n",
    "# Dsiplay the retail price\n",
    "\n",
    "    print(f'Retail price: ${retail:,.2f}')\n",
    "\n",
    "# Do this again?\n",
    "\n",
    "    another = input('Do you have another items? ' + ' (Enter y for yes):')"
   ]
  },
  {
   "cell_type": "markdown",
   "id": "f82cd4a4",
   "metadata": {},
   "source": [
    "# 4-16 RETAIL_WITH_VALIDATION"
   ]
  },
  {
   "cell_type": "code",
   "execution_count": 1,
   "id": "2f617085",
   "metadata": {},
   "outputs": [],
   "source": [
    "# This program calculates retail prices\n",
    "\n",
    "# The markup percentage\n",
    "MARK_UP = 2.5\n",
    "\n",
    "# Variable to control the loop\n",
    "\n",
    "another = 'y'"
   ]
  },
  {
   "cell_type": "code",
   "execution_count": 2,
   "id": "a55f974e",
   "metadata": {},
   "outputs": [
    {
     "name": "stdout",
     "output_type": "stream",
     "text": [
      "Enter the item's wholesale cost: -.50\n",
      "ERROR: The cost cannot be negative.\n",
      "Enter th correct  wholesale cost: 0.50\n",
      "Retail price: $1.25\n",
      "Do you have another item?  (Enter y for yes): n\n"
     ]
    }
   ],
   "source": [
    "# Process one or more items\n",
    "while another == 'y' or another == 'Y':\n",
    "    \n",
    "    # Get the item's wholesale cost\n",
    "    wholesale = float(input(\"Enter the item's wholesale cost: \"))\n",
    "    \n",
    "    # Validate the wholesale cost.\n",
    "    while wholesale <0:\n",
    "        print('ERROR: The cost cannot be negative.')\n",
    "        wholesale = float(input('Enter th correct ' + ' wholesale cost: '))\n",
    "        \n",
    "    # Calculate the retail price\n",
    "    retail = wholesale * MARK_UP\n",
    "    \n",
    "    # Display the retail price.\n",
    "    \n",
    "    print(f'Retail price: ${retail:,.2f}')\n",
    "    \n",
    "    # Do this again?\n",
    "    another = input('Do you have another item? '+ ' (Enter y for yes): ')"
   ]
  },
  {
   "cell_type": "code",
   "execution_count": null,
   "id": "33c51671",
   "metadata": {},
   "outputs": [],
   "source": []
  }
 ],
 "metadata": {
  "kernelspec": {
   "display_name": "Python 3 (ipykernel)",
   "language": "python",
   "name": "python3"
  },
  "language_info": {
   "codemirror_mode": {
    "name": "ipython",
    "version": 3
   },
   "file_extension": ".py",
   "mimetype": "text/x-python",
   "name": "python",
   "nbconvert_exporter": "python",
   "pygments_lexer": "ipython3",
   "version": "3.11.4"
  }
 },
 "nbformat": 4,
 "nbformat_minor": 5
}
