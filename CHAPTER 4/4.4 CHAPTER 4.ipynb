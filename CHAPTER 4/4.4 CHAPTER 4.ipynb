{
 "cells": [
  {
   "cell_type": "markdown",
   "id": "eb030b2c",
   "metadata": {},
   "source": [
    "# PROGRAM 4-2 SUM_NUMBERS.PY"
   ]
  },
  {
   "cell_type": "code",
   "execution_count": 1,
   "id": "e85ebc91",
   "metadata": {},
   "outputs": [],
   "source": [
    "# THIS PROGRAM CALCULATES THE SUM OF A SERIES OF NUMBERS ENTERED BY THE USER"
   ]
  },
  {
   "cell_type": "code",
   "execution_count": 2,
   "id": "97b77904",
   "metadata": {},
   "outputs": [],
   "source": [
    "# THE MAXIMUM NUMBER\n",
    "MAX = 5"
   ]
  },
  {
   "cell_type": "code",
   "execution_count": 3,
   "id": "255a61fd",
   "metadata": {},
   "outputs": [],
   "source": [
    "# INITIALIZE AN ACCUMLUATOR VARIABLE\n",
    "total = 0.0"
   ]
  },
  {
   "cell_type": "code",
   "execution_count": 4,
   "id": "84434c8e",
   "metadata": {},
   "outputs": [
    {
     "name": "stdout",
     "output_type": "stream",
     "text": [
      "This program calculates the sum of 5 numbers you will enter.\n"
     ]
    }
   ],
   "source": [
    "# EXPLAIN WHAT WE ARE DOING\n",
    "print('This program calculates the sum of ', end='')\n",
    "print(f'{MAX} numbers you will enter.')"
   ]
  },
  {
   "cell_type": "code",
   "execution_count": 5,
   "id": "3910e735",
   "metadata": {},
   "outputs": [
    {
     "name": "stdout",
     "output_type": "stream",
     "text": [
      "Enter a number: 1\n",
      "Enter a number: 2\n",
      "Enter a number: 3\n",
      "Enter a number: 4\n",
      "Enter a number: 5\n",
      "The total is 15.0.\n"
     ]
    }
   ],
   "source": [
    "# GET THE NUMBERS AND ACCUMULATE THEM.\n",
    "for counter in range(MAX):\n",
    "    number = int(input('Enter a number: '))\n",
    "    total = total + number\n",
    "# Dsiplay the total of the numbers\n",
    "print(f'The total is {total}.')"
   ]
  },
  {
   "cell_type": "markdown",
   "id": "b000eabc",
   "metadata": {},
   "source": [
    "# CHECKPOINT"
   ]
  },
  {
   "cell_type": "markdown",
   "id": "4934e87f",
   "metadata": {},
   "source": [
    "# 4.13 - WHAT IS AN ACCUMULATOR?\n",
    "A VARIABLE THAT IS USED TO ACCUMULATE THE TOTAL OF A SERIES OF NUMBERS"
   ]
  },
  {
   "cell_type": "markdown",
   "id": "1d85be10",
   "metadata": {},
   "source": [
    "# 4.14 SHOULD AN ACCUMULATOR BE INITIALIZED TO ANY SPEFICIF VALUE? WHY OR WHY NOT\n",
    "YES, IT SHOUJLD BE INITIALIZED WITH THE VALE (). THIS IS BECAUSE VALUES ARE ADDED TO THE ACCUMULATOR BY A LOOP. IF THE ACCUMULATOR DOES NOT START AT THE VALE (), IT WILL NOT CONTAIN THE CORRECT TOTAL OF THE NUMBERS THAT WERE ADDED TO IT WHEN THE LOOP ENDS"
   ]
  },
  {
   "cell_type": "markdown",
   "id": "61affa41",
   "metadata": {},
   "source": [
    "# 4.15 WHAT WILL THE FOLLOWING CODE DISPLAY?\n",
    "TOTAL = 0\n",
    "FOR COUNT IN RANGE(1, 6):\n",
    "TOTAL = TOTAL + COUNT\n",
    "PRINT (TOTAL)"
   ]
  },
  {
   "cell_type": "code",
   "execution_count": 10,
   "id": "bc2dc53a",
   "metadata": {},
   "outputs": [
    {
     "name": "stdout",
     "output_type": "stream",
     "text": [
      "15\n"
     ]
    }
   ],
   "source": [
    "total = 0\n",
    "for count in range(1, 6):\n",
    "    total += count\n",
    "print(total)"
   ]
  },
  {
   "cell_type": "markdown",
   "id": "ca1e57af",
   "metadata": {},
   "source": [
    "# 4.16 WHAT WILL THE FOLLOWING CODE DISPLAY\n",
    "NUMBER 1 = 10\n",
    "NUMBER 2 = 5\n",
    "NUMBER 1 += NUMBER 2\n",
    "PRINT (NUMBER1)\n",
    "PRINT (NUMBER2)"
   ]
  },
  {
   "cell_type": "code",
   "execution_count": 12,
   "id": "b26b32a5",
   "metadata": {},
   "outputs": [
    {
     "name": "stdout",
     "output_type": "stream",
     "text": [
      "15\n",
      "5\n"
     ]
    }
   ],
   "source": [
    "number1 = 10\n",
    "number2 = 5\n",
    "number1 += number2\n",
    "print(number1)\n",
    "print(number2)"
   ]
  },
  {
   "cell_type": "markdown",
   "id": "a19196ed",
   "metadata": {},
   "source": [
    "# 4.17 REWRITE THE FOLLOWING STATEMENTS USING AUGMENTED ASSIGNMENT OPERATORS:\n",
    "QUANTITY = QUANTITY + 1\n",
    "DAYS_LEFT = DAYS_LEFT - 5\n",
    "PRICE = PRICE * 10\n",
    "PRICE = PRICE / 2"
   ]
  },
  {
   "cell_type": "code",
   "execution_count": 13,
   "id": "9ae6614a",
   "metadata": {},
   "outputs": [
    {
     "ename": "NameError",
     "evalue": "name 'quantity' is not defined",
     "output_type": "error",
     "traceback": [
      "\u001b[1;31m---------------------------------------------------------------------------\u001b[0m",
      "\u001b[1;31mNameError\u001b[0m                                 Traceback (most recent call last)",
      "Cell \u001b[1;32mIn[13], line 1\u001b[0m\n\u001b[1;32m----> 1\u001b[0m quantity \u001b[38;5;241m+\u001b[39m\u001b[38;5;241m=\u001b[39m \u001b[38;5;241m1\u001b[39m\n\u001b[0;32m      2\u001b[0m days_left \u001b[38;5;241m-\u001b[39m\u001b[38;5;241m+\u001b[39m \u001b[38;5;241m5\u001b[39m\n\u001b[0;32m      3\u001b[0m price \u001b[38;5;241m*\u001b[39m\u001b[38;5;241m=\u001b[39m \u001b[38;5;241m10\u001b[39m\n",
      "\u001b[1;31mNameError\u001b[0m: name 'quantity' is not defined"
     ]
    }
   ],
   "source": [
    "quantity += 1\n",
    "days_left -+ 5\n",
    "price *= 10\n",
    "price /= 2"
   ]
  },
  {
   "cell_type": "code",
   "execution_count": null,
   "id": "d6afe1c5",
   "metadata": {},
   "outputs": [],
   "source": []
  }
 ],
 "metadata": {
  "kernelspec": {
   "display_name": "Python 3 (ipykernel)",
   "language": "python",
   "name": "python3"
  },
  "language_info": {
   "codemirror_mode": {
    "name": "ipython",
    "version": 3
   },
   "file_extension": ".py",
   "mimetype": "text/x-python",
   "name": "python",
   "nbconvert_exporter": "python",
   "pygments_lexer": "ipython3",
   "version": "3.11.4"
  }
 },
 "nbformat": 4,
 "nbformat_minor": 5
}
