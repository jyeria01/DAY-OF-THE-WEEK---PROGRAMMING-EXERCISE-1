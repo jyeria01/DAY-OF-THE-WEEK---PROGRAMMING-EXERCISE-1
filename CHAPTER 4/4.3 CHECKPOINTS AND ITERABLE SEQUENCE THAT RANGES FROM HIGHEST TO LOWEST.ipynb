{
 "cells": [
  {
   "cell_type": "code",
   "execution_count": 1,
   "id": "f21af475",
   "metadata": {},
   "outputs": [
    {
     "name": "stdout",
     "output_type": "stream",
     "text": [
      "10\n",
      "9\n",
      "8\n",
      "7\n",
      "6\n",
      "5\n",
      "4\n",
      "3\n",
      "2\n",
      "1\n"
     ]
    }
   ],
   "source": [
    "for num in range(10, 0, -1):\n",
    "    print(num)"
   ]
  },
  {
   "cell_type": "code",
   "execution_count": 2,
   "id": "c4738b33",
   "metadata": {},
   "outputs": [
    {
     "name": "stdout",
     "output_type": "stream",
     "text": [
      "5\n",
      "4\n",
      "3\n",
      "2\n",
      "1\n"
     ]
    }
   ],
   "source": [
    "for num in range(5, 0, -1):\n",
    "    print(num)"
   ]
  },
  {
   "cell_type": "markdown",
   "id": "697a358e",
   "metadata": {},
   "source": [
    "# Checkpoint\n",
    "# 4.8\n",
    "rewrite the following code so it calls th range function instead of using the list"
   ]
  },
  {
   "cell_type": "code",
   "execution_count": 3,
   "id": "664b1533",
   "metadata": {},
   "outputs": [
    {
     "name": "stdout",
     "output_type": "stream",
     "text": [
      "I love to program!\n",
      "I love to program!\n",
      "I love to program!\n",
      "I love to program!\n",
      "I love to program!\n",
      "I love to program!\n"
     ]
    }
   ],
   "source": [
    "for x in [0, 1, 2, 3, 4, 5]:\n",
    "    print('I love to program!')"
   ]
  },
  {
   "cell_type": "code",
   "execution_count": 4,
   "id": "af4f5342",
   "metadata": {},
   "outputs": [
    {
     "name": "stdout",
     "output_type": "stream",
     "text": [
      "I love to program!\n",
      "I love to program!\n",
      "I love to program!\n",
      "I love to program!\n",
      "I love to program!\n",
      "I love to program!\n"
     ]
    }
   ],
   "source": [
    "for x in range(6):\n",
    "    print('I love to program!')"
   ]
  },
  {
   "cell_type": "markdown",
   "id": "524c259f",
   "metadata": {},
   "source": [
    "# 4.9 WHAT WILL THE FOLLOWING CODE DISPLAY?"
   ]
  },
  {
   "cell_type": "code",
   "execution_count": 6,
   "id": "f1046030",
   "metadata": {},
   "outputs": [
    {
     "name": "stdout",
     "output_type": "stream",
     "text": [
      "0\n",
      "1\n",
      "2\n",
      "3\n",
      "4\n",
      "5\n"
     ]
    }
   ],
   "source": [
    "for number in range(6):\n",
    "    print(number)"
   ]
  },
  {
   "cell_type": "markdown",
   "id": "f75dcce5",
   "metadata": {},
   "source": [
    "# 4.10 - What will the following code display?"
   ]
  },
  {
   "cell_type": "code",
   "execution_count": 7,
   "id": "a886dd26",
   "metadata": {},
   "outputs": [
    {
     "name": "stdout",
     "output_type": "stream",
     "text": [
      "2\n",
      "3\n",
      "4\n",
      "5\n"
     ]
    }
   ],
   "source": [
    "for number in range(2, 6):\n",
    "    print(number)"
   ]
  },
  {
   "cell_type": "markdown",
   "id": "03353ee5",
   "metadata": {},
   "source": [
    "# 4.11 - What will the following code display?"
   ]
  },
  {
   "cell_type": "code",
   "execution_count": 8,
   "id": "31f78a70",
   "metadata": {},
   "outputs": [
    {
     "name": "stdout",
     "output_type": "stream",
     "text": [
      "0\n",
      "100\n",
      "200\n",
      "300\n",
      "400\n",
      "500\n"
     ]
    }
   ],
   "source": [
    "for number in range(0, 501, 100):\n",
    "    print(number)"
   ]
  },
  {
   "cell_type": "markdown",
   "id": "c9bf2ee2",
   "metadata": {},
   "source": [
    "# 4.12 - What will the following code display?"
   ]
  },
  {
   "cell_type": "code",
   "execution_count": 10,
   "id": "7c4cedd0",
   "metadata": {},
   "outputs": [
    {
     "name": "stdout",
     "output_type": "stream",
     "text": [
      "10\n",
      "9\n",
      "8\n",
      "7\n",
      "6\n"
     ]
    }
   ],
   "source": [
    "for number in range(10, 5, -1):\n",
    "    print(number)"
   ]
  },
  {
   "cell_type": "code",
   "execution_count": null,
   "id": "cbd84975",
   "metadata": {},
   "outputs": [],
   "source": []
  }
 ],
 "metadata": {
  "kernelspec": {
   "display_name": "Python 3 (ipykernel)",
   "language": "python",
   "name": "python3"
  },
  "language_info": {
   "codemirror_mode": {
    "name": "ipython",
    "version": 3
   },
   "file_extension": ".py",
   "mimetype": "text/x-python",
   "name": "python",
   "nbconvert_exporter": "python",
   "pygments_lexer": "ipython3",
   "version": "3.11.4"
  }
 },
 "nbformat": 4,
 "nbformat_minor": 5
}
