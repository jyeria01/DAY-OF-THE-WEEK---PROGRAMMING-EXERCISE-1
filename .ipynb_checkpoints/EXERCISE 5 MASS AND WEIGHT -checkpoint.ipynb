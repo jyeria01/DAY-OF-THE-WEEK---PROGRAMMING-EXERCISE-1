{
 "cells": [
  {
   "cell_type": "markdown",
   "id": "55a9c75b",
   "metadata": {},
   "source": [
    "# CHAPTER 3\n",
    "## PROGRAMMING EXERCISE 5 (MASS & WEIGHT)"
   ]
  },
  {
   "cell_type": "markdown",
   "id": "64d23eea",
   "metadata": {},
   "source": [
    "SCIENTIST MEASURE AND OBJECT'S MASS IN KILOGRAMS AND ITS WEIGHT IN NEWTONS. IF YOU KNOW THE AMOUNT OF MASS OF AN OBJECT IN KILOGAMS, YOU CAN CALCULATE ITS WEIGHT IN NEWTONS WITH THE FOLLOWING FORMULA"
   ]
  },
  {
   "cell_type": "markdown",
   "id": "40107f6e",
   "metadata": {},
   "source": [
    "WEIGHT = MASS X 9.8"
   ]
  },
  {
   "cell_type": "code",
   "execution_count": 1,
   "id": "4031c5ef",
   "metadata": {},
   "outputs": [],
   "source": [
    "# USER ENTERS MASS IN KILOGRAMS\n",
    "# CALCULATE WEIGHT IN NEWTONS\n",
    "# DISPLAY IF TOO HEAVY, TOO LIGHT OR JUST RIGHT"
   ]
  },
  {
   "cell_type": "code",
   "execution_count": 6,
   "id": "d6f5a041",
   "metadata": {},
   "outputs": [
    {
     "ename": "SyntaxError",
     "evalue": "invalid decimal literal (1715006838.py, line 6)",
     "output_type": "error",
     "traceback": [
      "\u001b[1;36m  Cell \u001b[1;32mIn[6], line 6\u001b[1;36m\u001b[0m\n\u001b[1;33m    print('In newtons, that weighs: ' + f'(weight, ',.2f'))\u001b[0m\n\u001b[1;37m                                                      ^\u001b[0m\n\u001b[1;31mSyntaxError\u001b[0m\u001b[1;31m:\u001b[0m invalid decimal literal\n"
     ]
    }
   ],
   "source": [
    "# ASK USER TO ENTER MASS IN KILOGRAMS\n",
    "mass = float(input('Enter an objects Mass in kilograms: '))\n",
    "\n",
    "# CALCULATE WEIGHT IN NEWTONS\n",
    "weight = mass * 9.8\n",
    "print('In newtons, that weighs: ' + f'(weight, ',.2f'))"
   ]
  },
  {
   "cell_type": "code",
   "execution_count": null,
   "id": "fc31bf42",
   "metadata": {},
   "outputs": [],
   "source": []
  }
 ],
 "metadata": {
  "kernelspec": {
   "display_name": "Python 3 (ipykernel)",
   "language": "python",
   "name": "python3"
  },
  "language_info": {
   "codemirror_mode": {
    "name": "ipython",
    "version": 3
   },
   "file_extension": ".py",
   "mimetype": "text/x-python",
   "name": "python",
   "nbconvert_exporter": "python",
   "pygments_lexer": "ipython3",
   "version": "3.11.4"
  }
 },
 "nbformat": 4,
 "nbformat_minor": 5
}
