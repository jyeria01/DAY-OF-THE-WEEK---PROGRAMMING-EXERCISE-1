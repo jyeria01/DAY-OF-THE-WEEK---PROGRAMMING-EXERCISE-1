{
 "cells": [
  {
   "cell_type": "markdown",
   "id": "d680f594",
   "metadata": {},
   "source": [
    "# CHAPTER 3\n",
    "## PROGRAMMING EXERCISE 5 (MASS & WEIGHT)"
   ]
  },
  {
   "cell_type": "markdown",
   "id": "01819a66",
   "metadata": {},
   "source": [
    "SCIENTIST MEASURE AND OBJECT'S MASS IN KILOGRAMS AND ITS WEIGHT IN NEWTONS. IF YOU KNOW THE AMOUNT OF MASS OF AN OBJECT IN KILOGAMS, YOU CAN CALCULATE ITS WEIGHT IN NEWTONS WITH THE FOLLOWING FORMULA"
   ]
  },
  {
   "cell_type": "markdown",
   "id": "dfc9ac03",
   "metadata": {},
   "source": [
    "WEIGHT = MASS X 9.8"
   ]
  },
  {
   "cell_type": "code",
   "execution_count": 1,
   "id": "f14086f0",
   "metadata": {},
   "outputs": [],
   "source": [
    "# USER ENTERS MASS IN KILOGRAMS\n",
    "# CALCULATE WEIGHT IN NEWTONS\n",
    "# DISPLAY IF TOO HEAVY, TOO LIGHT OR JUST RIGHT"
   ]
  },
  {
   "cell_type": "code",
   "execution_count": 4,
   "id": "f7309a00",
   "metadata": {},
   "outputs": [
    {
     "name": "stdout",
     "output_type": "stream",
     "text": [
      "Enter an objects Mass in kilograms: 50\n",
      "In newtons, that weighs: 490.00\n",
      "Object is JUST RIGHT\n"
     ]
    }
   ],
   "source": [
    "# ASK USER TO ENTER MASS IN KILOGRAMS\n",
    "mass = float(input('Enter an objects Mass in kilograms: '))\n",
    "\n",
    "# CALCULATE WEIGHT IN NEWTONS\n",
    "weight = mass * 9.8\n",
    "print(f'In newtons, that weighs: {weight:.2f}')\n",
    "\n",
    "# Display if too heavy, too light, or just right\n",
    "if weight > 500:\n",
    "    print('Object is too heavy!')\n",
    "    \n",
    "elif weight > 100:\n",
    "    print('Object is JUST RIGHT')\n",
    "\n",
    "else:\n",
    "    print('Object is too light')"
   ]
  }
 ],
 "metadata": {
  "kernelspec": {
   "display_name": "Python 3 (ipykernel)",
   "language": "python",
   "name": "python3"
  },
  "language_info": {
   "codemirror_mode": {
    "name": "ipython",
    "version": 3
   },
   "file_extension": ".py",
   "mimetype": "text/x-python",
   "name": "python",
   "nbconvert_exporter": "python",
   "pygments_lexer": "ipython3",
   "version": "3.11.4"
  }
 },
 "nbformat": 4,
 "nbformat_minor": 5
}
