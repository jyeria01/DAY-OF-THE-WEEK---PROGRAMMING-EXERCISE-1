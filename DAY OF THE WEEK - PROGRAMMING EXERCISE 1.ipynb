{
 "cells": [
  {
   "cell_type": "markdown",
   "id": "35e977bb",
   "metadata": {},
   "source": [
    "# PROGRAMMING EXERCISE 1\n",
    "## CHAPTER 3"
   ]
  },
  {
   "cell_type": "markdown",
   "id": "8547e4b2",
   "metadata": {},
   "source": [
    "Write a program that asks the user for a number in the range of 1 through 7. The program should display the corresponding day of the week, where 1 = Monday, 2 = Tuesday, 3 = Wednesday, 4 = Thursday, 5 = Friday, 6 = Saturday, and 7 = Sunday. The program should display an error message if the user enters a number that is outside the range of 1 through 7."
   ]
  },
  {
   "cell_type": "code",
   "execution_count": 1,
   "id": "e2b0191b",
   "metadata": {},
   "outputs": [],
   "source": [
    "# DISPLAY THE CORRESPONDING DAY OF THE WEEK, WHERE NUMBERS ARE\n",
    "# ASK USER FOR A NUMBER 1-7\n",
    "# IF 1-7 DISPLAY CORRESPONDING DAY\n",
    "# IF OUTSIDE OF RANGE DISPLAY ERROR MESSAGE"
   ]
  },
  {
   "cell_type": "code",
   "execution_count": 2,
   "id": "6b9b2849",
   "metadata": {},
   "outputs": [
    {
     "name": "stdout",
     "output_type": "stream",
     "text": [
      "Enter a number between 1 - 7 to see a magic trick 8\n"
     ]
    }
   ],
   "source": [
    "# ASK USER FOR A NUMBER 1-7\n",
    "number = int(input(\"Enter a number between 1 - 7 to see a magic trick \" ))"
   ]
  },
  {
   "cell_type": "code",
   "execution_count": 3,
   "id": "521355ea",
   "metadata": {},
   "outputs": [
    {
     "name": "stdout",
     "output_type": "stream",
     "text": [
      "Error!\n"
     ]
    }
   ],
   "source": [
    "# Display corresponding day\n",
    "if number == 1:\n",
    "    print('Monday')\n",
    "\n",
    "elif number == 2:\n",
    "    print('Tuesday')\n",
    "\n",
    "elif number == 3:\n",
    "    print('Wednesday')\n",
    "# copy and past the remaining elif variables to show the rest of the days and test\n",
    "\n",
    "elif number == 4:\n",
    "    print('Thursday')\n",
    "    \n",
    "elif number == 5:\n",
    "    print('Friday')\n",
    "\n",
    "elif number == 6:\n",
    "    print('Saturday')\n",
    "    \n",
    "elif number == 7:\n",
    "    print('Sunday')\n",
    "\n",
    "    \n",
    "else:\n",
    "    print('Error!')"
   ]
  },
  {
   "cell_type": "code",
   "execution_count": null,
   "id": "51b4617c",
   "metadata": {},
   "outputs": [],
   "source": []
  },
  {
   "cell_type": "code",
   "execution_count": null,
   "id": "f0e3333b",
   "metadata": {},
   "outputs": [],
   "source": []
  }
 ],
 "metadata": {
  "kernelspec": {
   "display_name": "Python 3 (ipykernel)",
   "language": "python",
   "name": "python3"
  },
  "language_info": {
   "codemirror_mode": {
    "name": "ipython",
    "version": 3
   },
   "file_extension": ".py",
   "mimetype": "text/x-python",
   "name": "python",
   "nbconvert_exporter": "python",
   "pygments_lexer": "ipython3",
   "version": "3.11.4"
  }
 },
 "nbformat": 4,
 "nbformat_minor": 5
}
